{
 "cells": [
  {
   "cell_type": "markdown",
   "metadata": {},
   "source": [
    "Solemne 3: Construir una red neuronal para el conjunto de datos entregados, que contemple los siguientes pasos:\n",
    "\n",
    "Cargar datos.\n",
    "Definir modelo.\n",
    "Modelo de compilación.\n",
    "Modelo de ajuste.\n",
    "Evaluar modelo.\n"
   ]
  },
  {
   "cell_type": "markdown",
   "metadata": {},
   "source": [
    "Conjunto de datos sobre la diabetes en una población\n",
    "\n",
    "Describe los datos de los registros médicos de los pacientes  y si tenían la aparición de la diabetes en un plazo de cinco años. Se trata de un problema de clasificación binaria (aparición de diabetes como 1 o no como 0). Las variables de entrada que describen a cada paciente son numéricas y tienen variables de escalas. A continuación se enumeran los ocho atributos del set de datos:\n",
    "\n",
    "1. Número de embarazos.\n",
    "2. Concentración de glucosa en plasma a 2 horas en una prueba oral de tolerancia a la glucosa.\n",
    "3. Presión arterial diastólica (mm Hg).\n",
    "4. Grosor del pliegue de la piel del tríceps (mm).\n",
    "5. Insulina sérica de 2 horas (mu U/ml).\n",
    "6. Índice de masa corporal.\n",
    "7. Función del pedigrí de la diabetes.\n",
    "8. Edad (años).\n",
    "9. Clase, aparición de diabetes en un plazo de cinco años."
   ]
  },
  {
   "cell_type": "code",
   "execution_count": null,
   "metadata": {},
   "outputs": [],
   "source": [
    "#Importamos las librerias a utilizar\n",
    "import numpy as np\n",
    "from keras.models import Sequential\n",
    "from keras.layers.core import Dense"
   ]
  }
 ],
 "metadata": {
  "kernelspec": {
   "display_name": "Python 3",
   "language": "python",
   "name": "python3"
  },
  "language_info": {
   "codemirror_mode": {
    "name": "ipython",
    "version": 3
   },
   "file_extension": ".py",
   "mimetype": "text/x-python",
   "name": "python",
   "nbconvert_exporter": "python",
   "pygments_lexer": "ipython3",
   "version": "3.7.9"
  }
 },
 "nbformat": 4,
 "nbformat_minor": 4
}
